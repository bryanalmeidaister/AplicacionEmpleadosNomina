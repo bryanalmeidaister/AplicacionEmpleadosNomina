{
  "cells": [
    {
      "cell_type": "markdown",
      "metadata": {
        "id": "view-in-github",
        "colab_type": "text"
      },
      "source": [
        "<a href=\"https://colab.research.google.com/github/bryanalmeidaister/AplicacionEmpleadosNomina/blob/main/Analisis_de_descriptivo_de_los_datos_EDA_de_un_CRM_.ipynb\" target=\"_parent\"><img src=\"https://colab.research.google.com/assets/colab-badge.svg\" alt=\"Open In Colab\"/></a>"
      ]
    },
    {
      "cell_type": "markdown",
      "id": "d527775b",
      "metadata": {
        "id": "d527775b"
      },
      "source": [
        "\n",
        "_Inteligencia de Cliente (CRM)_\n",
        "\n",
        "_Máster Universitario en Inteligencia de Negocio_\n",
        "\n",
        "# Actividad 01: Análisis descriptivo de los datos (EDA) de un CRM\n",
        "\n",
        "\n",
        "En este Notebook se lleva a cabo un análisis descriptivo de los datos EDA paso a paso en lenguaje Python. Los datos con los que trabajaremos han sido obtenidos del CRM de la empresa GoodTasteMarket. GoodTasteMarket es una red de supermercados con una amplia presencia en el norte de Europa.\n",
        "\n",
        "Actualmente la línea de negocio de GoodTasteMarket está centrada en productos de alimentación y se plantean, entre otros aspectos, diversificar su portfolio de producto. Para este fin consideran que es necesario realizar un análisis de los datos procedentes de su CRM , datos que le proporcionarán conocimiento útil sobre el comportamiento de cliente o las ventas y les serán de ayuda para la definición de sus estrategias comerciales.\n",
        "\n",
        "Para llevar a cabo dicho análisis disponemos de un conjunto de datos en formato csv con la siguiente descripción:\n",
        "\n",
        "## Descripción del dataset:\n",
        "\n",
        "- **ID**: Identificador único del cliente\n",
        "- **Age**: Edad del cliente\n",
        "- **Education**: Nivel educativo del cliente\n",
        "0 - 'Basica'\n",
        "1 - 'Secundaria'\n",
        "2 - 'Grado'\n",
        "3 - 'Master'\n",
        "4 - 'Doctorado - PhD'\n",
        "\n",
        "- **Marital_Status**: Estado civil del cliente\n",
        "0 - 'Soltero/a'\n",
        "1 - 'Pareja de hecho'\n",
        "2 - 'Casado/a'\n",
        "3 - 'Divorciado/a'\n",
        "4 - 'Viudo/a'\n",
        "\n",
        "- **Income**: Ingresos familiares anuales del cliente\n",
        "- **Children**: Número de niños en el hogar del cliente\n",
        "- **Seniority**: Antigüedad del cliente en la empresa\n",
        "- **Recency**: Número de días transcurridos desde la última compra del cliente\n",
        "- **Complain**: Quejas del cliente en los últimos 2 años (1 - si ha realizado alguna, 0 - si no ha realizado ninguna)\n",
        "- **MntWines**: Cantidad gastada en vino en los últimos 2 años\n",
        "- **MntFruits**: Cantidad gastada en fruta en los últimos 2 años\n",
        "- **MntMeatProducts**: Cantidad gastada en carne en los últimos 2 años\n",
        "- **MntFishProducts**: Cantidad gastada en pescado en los últimos 2 años\n",
        "- **MntSweetProducts**: Cantidad gastada en dulces en los últimos 2 años\n",
        "- **MntGoldProds**: Cantidad gastada en productos premium en los últimos 2 años\n",
        "- **MntTotalSpent**: Cantidad total gastada en cualquier producto\n",
        "- **NumWebPurchases**: Número de compras realizadas a través del sitio web de la empresa\n",
        "- **NumCatalogPurchases**: Número de compras realizadas a través de catálogo\n",
        "- **NumStorePurchases**: Número de compras realizadas a través de tiendas físicas\n",
        "- **NumTotalPurchases**: Número total de compras realizadas por cualquier canal\n",
        "- **NumWebVisitsMonth**: Número de visitas al sitio web de la empresa en el último mes"
      ]
    },
    {
      "cell_type": "markdown",
      "source": [
        "#Análisis descriptivo de los Datos (EDA) paso a paso\n",
        "\n",
        "\n",
        "A continuación realizaremos el análisis descriptivo de los datos de los que disponemos y tras el análisis de los mismos obtendremos conclusiones valiosas para la toma de decisiones. Esta información nos ayudará a mejorar las estrategias comerciales de la empresa y sentará las bases para que los equipos de Científicos de datos realicen los correspondientes modelados de datos con técnicas de machine learning."
      ],
      "metadata": {
        "id": "K9X_gscOaH19"
      },
      "id": "K9X_gscOaH19"
    },
    {
      "cell_type": "markdown",
      "source": [],
      "metadata": {
        "id": "l3nmoB9Jh9aR"
      },
      "id": "l3nmoB9Jh9aR"
    },
    {
      "cell_type": "markdown",
      "id": "c399e1d6",
      "metadata": {
        "id": "c399e1d6"
      },
      "source": [
        "### Paso 1. Importamos las librerías y cargamos el dataset"
      ]
    },
    {
      "cell_type": "code",
      "execution_count": null,
      "id": "ed8056a1",
      "metadata": {
        "id": "ed8056a1"
      },
      "outputs": [],
      "source": [
        "# Importamos las librerías necesarias\n",
        "import numpy as np\n",
        "import pandas as pd\n",
        "from matplotlib import pyplot as plt\n",
        "import seaborn as sns\n",
        "import plotly.express as px"
      ]
    },
    {
      "cell_type": "code",
      "execution_count": null,
      "id": "9c732dd7",
      "metadata": {
        "id": "9c732dd7",
        "colab": {
          "base_uri": "https://localhost:8080/",
          "height": 73
        },
        "outputId": "9c70d211-7a64-499e-976a-cae8467e6059"
      },
      "outputs": [
        {
          "output_type": "display_data",
          "data": {
            "text/plain": [
              "<IPython.core.display.HTML object>"
            ],
            "text/html": [
              "\n",
              "     <input type=\"file\" id=\"files-342bfbca-ab88-4c1f-8831-c73eb58c8dc6\" name=\"files[]\" multiple disabled\n",
              "        style=\"border:none\" />\n",
              "     <output id=\"result-342bfbca-ab88-4c1f-8831-c73eb58c8dc6\">\n",
              "      Upload widget is only available when the cell has been executed in the\n",
              "      current browser session. Please rerun this cell to enable.\n",
              "      </output>\n",
              "      <script>// Copyright 2017 Google LLC\n",
              "//\n",
              "// Licensed under the Apache License, Version 2.0 (the \"License\");\n",
              "// you may not use this file except in compliance with the License.\n",
              "// You may obtain a copy of the License at\n",
              "//\n",
              "//      http://www.apache.org/licenses/LICENSE-2.0\n",
              "//\n",
              "// Unless required by applicable law or agreed to in writing, software\n",
              "// distributed under the License is distributed on an \"AS IS\" BASIS,\n",
              "// WITHOUT WARRANTIES OR CONDITIONS OF ANY KIND, either express or implied.\n",
              "// See the License for the specific language governing permissions and\n",
              "// limitations under the License.\n",
              "\n",
              "/**\n",
              " * @fileoverview Helpers for google.colab Python module.\n",
              " */\n",
              "(function(scope) {\n",
              "function span(text, styleAttributes = {}) {\n",
              "  const element = document.createElement('span');\n",
              "  element.textContent = text;\n",
              "  for (const key of Object.keys(styleAttributes)) {\n",
              "    element.style[key] = styleAttributes[key];\n",
              "  }\n",
              "  return element;\n",
              "}\n",
              "\n",
              "// Max number of bytes which will be uploaded at a time.\n",
              "const MAX_PAYLOAD_SIZE = 100 * 1024;\n",
              "\n",
              "function _uploadFiles(inputId, outputId) {\n",
              "  const steps = uploadFilesStep(inputId, outputId);\n",
              "  const outputElement = document.getElementById(outputId);\n",
              "  // Cache steps on the outputElement to make it available for the next call\n",
              "  // to uploadFilesContinue from Python.\n",
              "  outputElement.steps = steps;\n",
              "\n",
              "  return _uploadFilesContinue(outputId);\n",
              "}\n",
              "\n",
              "// This is roughly an async generator (not supported in the browser yet),\n",
              "// where there are multiple asynchronous steps and the Python side is going\n",
              "// to poll for completion of each step.\n",
              "// This uses a Promise to block the python side on completion of each step,\n",
              "// then passes the result of the previous step as the input to the next step.\n",
              "function _uploadFilesContinue(outputId) {\n",
              "  const outputElement = document.getElementById(outputId);\n",
              "  const steps = outputElement.steps;\n",
              "\n",
              "  const next = steps.next(outputElement.lastPromiseValue);\n",
              "  return Promise.resolve(next.value.promise).then((value) => {\n",
              "    // Cache the last promise value to make it available to the next\n",
              "    // step of the generator.\n",
              "    outputElement.lastPromiseValue = value;\n",
              "    return next.value.response;\n",
              "  });\n",
              "}\n",
              "\n",
              "/**\n",
              " * Generator function which is called between each async step of the upload\n",
              " * process.\n",
              " * @param {string} inputId Element ID of the input file picker element.\n",
              " * @param {string} outputId Element ID of the output display.\n",
              " * @return {!Iterable<!Object>} Iterable of next steps.\n",
              " */\n",
              "function* uploadFilesStep(inputId, outputId) {\n",
              "  const inputElement = document.getElementById(inputId);\n",
              "  inputElement.disabled = false;\n",
              "\n",
              "  const outputElement = document.getElementById(outputId);\n",
              "  outputElement.innerHTML = '';\n",
              "\n",
              "  const pickedPromise = new Promise((resolve) => {\n",
              "    inputElement.addEventListener('change', (e) => {\n",
              "      resolve(e.target.files);\n",
              "    });\n",
              "  });\n",
              "\n",
              "  const cancel = document.createElement('button');\n",
              "  inputElement.parentElement.appendChild(cancel);\n",
              "  cancel.textContent = 'Cancel upload';\n",
              "  const cancelPromise = new Promise((resolve) => {\n",
              "    cancel.onclick = () => {\n",
              "      resolve(null);\n",
              "    };\n",
              "  });\n",
              "\n",
              "  // Wait for the user to pick the files.\n",
              "  const files = yield {\n",
              "    promise: Promise.race([pickedPromise, cancelPromise]),\n",
              "    response: {\n",
              "      action: 'starting',\n",
              "    }\n",
              "  };\n",
              "\n",
              "  cancel.remove();\n",
              "\n",
              "  // Disable the input element since further picks are not allowed.\n",
              "  inputElement.disabled = true;\n",
              "\n",
              "  if (!files) {\n",
              "    return {\n",
              "      response: {\n",
              "        action: 'complete',\n",
              "      }\n",
              "    };\n",
              "  }\n",
              "\n",
              "  for (const file of files) {\n",
              "    const li = document.createElement('li');\n",
              "    li.append(span(file.name, {fontWeight: 'bold'}));\n",
              "    li.append(span(\n",
              "        `(${file.type || 'n/a'}) - ${file.size} bytes, ` +\n",
              "        `last modified: ${\n",
              "            file.lastModifiedDate ? file.lastModifiedDate.toLocaleDateString() :\n",
              "                                    'n/a'} - `));\n",
              "    const percent = span('0% done');\n",
              "    li.appendChild(percent);\n",
              "\n",
              "    outputElement.appendChild(li);\n",
              "\n",
              "    const fileDataPromise = new Promise((resolve) => {\n",
              "      const reader = new FileReader();\n",
              "      reader.onload = (e) => {\n",
              "        resolve(e.target.result);\n",
              "      };\n",
              "      reader.readAsArrayBuffer(file);\n",
              "    });\n",
              "    // Wait for the data to be ready.\n",
              "    let fileData = yield {\n",
              "      promise: fileDataPromise,\n",
              "      response: {\n",
              "        action: 'continue',\n",
              "      }\n",
              "    };\n",
              "\n",
              "    // Use a chunked sending to avoid message size limits. See b/62115660.\n",
              "    let position = 0;\n",
              "    do {\n",
              "      const length = Math.min(fileData.byteLength - position, MAX_PAYLOAD_SIZE);\n",
              "      const chunk = new Uint8Array(fileData, position, length);\n",
              "      position += length;\n",
              "\n",
              "      const base64 = btoa(String.fromCharCode.apply(null, chunk));\n",
              "      yield {\n",
              "        response: {\n",
              "          action: 'append',\n",
              "          file: file.name,\n",
              "          data: base64,\n",
              "        },\n",
              "      };\n",
              "\n",
              "      let percentDone = fileData.byteLength === 0 ?\n",
              "          100 :\n",
              "          Math.round((position / fileData.byteLength) * 100);\n",
              "      percent.textContent = `${percentDone}% done`;\n",
              "\n",
              "    } while (position < fileData.byteLength);\n",
              "  }\n",
              "\n",
              "  // All done.\n",
              "  yield {\n",
              "    response: {\n",
              "      action: 'complete',\n",
              "    }\n",
              "  };\n",
              "}\n",
              "\n",
              "scope.google = scope.google || {};\n",
              "scope.google.colab = scope.google.colab || {};\n",
              "scope.google.colab._files = {\n",
              "  _uploadFiles,\n",
              "  _uploadFilesContinue,\n",
              "};\n",
              "})(self);\n",
              "</script> "
            ]
          },
          "metadata": {}
        },
        {
          "output_type": "stream",
          "name": "stdout",
          "text": [
            "Saving marketing_campaign.csv to marketing_campaign.csv\n"
          ]
        }
      ],
      "source": [
        "# Cargamos el dataset en Colab\n",
        "from google.colab import files\n",
        "uploaded = files.upload()"
      ]
    },
    {
      "cell_type": "markdown",
      "source": [
        "###Paso 2: Describimos la estructura de los datos y sus principales estadísticas"
      ],
      "metadata": {
        "id": "rhJffLlZWCWz"
      },
      "id": "rhJffLlZWCWz"
    },
    {
      "cell_type": "code",
      "source": [
        "# Leemos el dataset\n",
        "import io\n",
        "data = pd.read_csv(io.BytesIO(uploaded['marketing_campaign.csv']), sep=',')\n",
        "data.head(10)"
      ],
      "metadata": {
        "id": "726xGrzFj7zC",
        "colab": {
          "base_uri": "https://localhost:8080/",
          "height": 412
        },
        "outputId": "bb71835b-c533-4d2d-deb7-135beda640ec"
      },
      "id": "726xGrzFj7zC",
      "execution_count": null,
      "outputs": [
        {
          "output_type": "execute_result",
          "data": {
            "text/plain": [
              "     ID   Income  Recency  MntWines  MntFruits  MntMeatProducts  \\\n",
              "0  5524  58138.0       58       635         88              546   \n",
              "1  2174  46344.0       38        11          1                6   \n",
              "2  4141  71613.0       26       426         49              127   \n",
              "3  6182  26646.0       26        11          4               20   \n",
              "4  5324  58293.0       94       173         43              118   \n",
              "5  7446  62513.0       16       520         42               98   \n",
              "6   965  55635.0       34       235         65              164   \n",
              "7  6177  33454.0       32        76         10               56   \n",
              "8  4855  30351.0       19        14          0               24   \n",
              "9  5899   5648.0       68        28          0                6   \n",
              "\n",
              "   MntFishProducts  MntSweetProducts  MntGoldProds  NumWebPurchases  ...  \\\n",
              "0              172                88            88                8  ...   \n",
              "1                2                 1             6                1  ...   \n",
              "2              111                21            42                8  ...   \n",
              "3               10                 3             5                2  ...   \n",
              "4               46                27            15                5  ...   \n",
              "5                0                42            14                6  ...   \n",
              "6               50                49            27                7  ...   \n",
              "7                3                 1            23                4  ...   \n",
              "8                3                 3             2                3  ...   \n",
              "9                1                 1            13                1  ...   \n",
              "\n",
              "   NumStorePurchases  NumWebVisitsMonth  Complain  Education_Int  \\\n",
              "0                  4                  7         0              2   \n",
              "1                  2                  5         0              2   \n",
              "2                 10                  4         0              2   \n",
              "3                  4                  6         0              2   \n",
              "4                  6                  5         0              4   \n",
              "5                 10                  6         0              3   \n",
              "6                  7                  6         0              2   \n",
              "7                  4                  8         0              4   \n",
              "8                  2                  9         0              4   \n",
              "9                  0                 20         0              4   \n",
              "\n",
              "   Marital_Status_Int  Children  MntTotalSpent  Age  NumTotalPurchases  \\\n",
              "0                   0         0           1617   66                 22   \n",
              "1                   0         2             27   69                  4   \n",
              "2                   1         0            776   58                 20   \n",
              "3                   1         1             53   39                  6   \n",
              "4                   2         1            422   42                 14   \n",
              "5                   1         1            716   56                 20   \n",
              "6                   3         1            590   52                 17   \n",
              "7                   2         1            169   38                  8   \n",
              "8                   1         1             46   49                  5   \n",
              "9                   1         2             49   73                  1   \n",
              "\n",
              "   Seniority  \n",
              "0          3  \n",
              "1          1  \n",
              "2          2  \n",
              "3          1  \n",
              "4          1  \n",
              "5          2  \n",
              "6          3  \n",
              "7          2  \n",
              "8          2  \n",
              "9          1  \n",
              "\n",
              "[10 rows x 21 columns]"
            ],
            "text/html": [
              "\n",
              "  <div id=\"df-8b6481cc-d50e-4301-aca9-2d075c99a070\" class=\"colab-df-container\">\n",
              "    <div>\n",
              "<style scoped>\n",
              "    .dataframe tbody tr th:only-of-type {\n",
              "        vertical-align: middle;\n",
              "    }\n",
              "\n",
              "    .dataframe tbody tr th {\n",
              "        vertical-align: top;\n",
              "    }\n",
              "\n",
              "    .dataframe thead th {\n",
              "        text-align: right;\n",
              "    }\n",
              "</style>\n",
              "<table border=\"1\" class=\"dataframe\">\n",
              "  <thead>\n",
              "    <tr style=\"text-align: right;\">\n",
              "      <th></th>\n",
              "      <th>ID</th>\n",
              "      <th>Income</th>\n",
              "      <th>Recency</th>\n",
              "      <th>MntWines</th>\n",
              "      <th>MntFruits</th>\n",
              "      <th>MntMeatProducts</th>\n",
              "      <th>MntFishProducts</th>\n",
              "      <th>MntSweetProducts</th>\n",
              "      <th>MntGoldProds</th>\n",
              "      <th>NumWebPurchases</th>\n",
              "      <th>...</th>\n",
              "      <th>NumStorePurchases</th>\n",
              "      <th>NumWebVisitsMonth</th>\n",
              "      <th>Complain</th>\n",
              "      <th>Education_Int</th>\n",
              "      <th>Marital_Status_Int</th>\n",
              "      <th>Children</th>\n",
              "      <th>MntTotalSpent</th>\n",
              "      <th>Age</th>\n",
              "      <th>NumTotalPurchases</th>\n",
              "      <th>Seniority</th>\n",
              "    </tr>\n",
              "  </thead>\n",
              "  <tbody>\n",
              "    <tr>\n",
              "      <th>0</th>\n",
              "      <td>5524</td>\n",
              "      <td>58138.0</td>\n",
              "      <td>58</td>\n",
              "      <td>635</td>\n",
              "      <td>88</td>\n",
              "      <td>546</td>\n",
              "      <td>172</td>\n",
              "      <td>88</td>\n",
              "      <td>88</td>\n",
              "      <td>8</td>\n",
              "      <td>...</td>\n",
              "      <td>4</td>\n",
              "      <td>7</td>\n",
              "      <td>0</td>\n",
              "      <td>2</td>\n",
              "      <td>0</td>\n",
              "      <td>0</td>\n",
              "      <td>1617</td>\n",
              "      <td>66</td>\n",
              "      <td>22</td>\n",
              "      <td>3</td>\n",
              "    </tr>\n",
              "    <tr>\n",
              "      <th>1</th>\n",
              "      <td>2174</td>\n",
              "      <td>46344.0</td>\n",
              "      <td>38</td>\n",
              "      <td>11</td>\n",
              "      <td>1</td>\n",
              "      <td>6</td>\n",
              "      <td>2</td>\n",
              "      <td>1</td>\n",
              "      <td>6</td>\n",
              "      <td>1</td>\n",
              "      <td>...</td>\n",
              "      <td>2</td>\n",
              "      <td>5</td>\n",
              "      <td>0</td>\n",
              "      <td>2</td>\n",
              "      <td>0</td>\n",
              "      <td>2</td>\n",
              "      <td>27</td>\n",
              "      <td>69</td>\n",
              "      <td>4</td>\n",
              "      <td>1</td>\n",
              "    </tr>\n",
              "    <tr>\n",
              "      <th>2</th>\n",
              "      <td>4141</td>\n",
              "      <td>71613.0</td>\n",
              "      <td>26</td>\n",
              "      <td>426</td>\n",
              "      <td>49</td>\n",
              "      <td>127</td>\n",
              "      <td>111</td>\n",
              "      <td>21</td>\n",
              "      <td>42</td>\n",
              "      <td>8</td>\n",
              "      <td>...</td>\n",
              "      <td>10</td>\n",
              "      <td>4</td>\n",
              "      <td>0</td>\n",
              "      <td>2</td>\n",
              "      <td>1</td>\n",
              "      <td>0</td>\n",
              "      <td>776</td>\n",
              "      <td>58</td>\n",
              "      <td>20</td>\n",
              "      <td>2</td>\n",
              "    </tr>\n",
              "    <tr>\n",
              "      <th>3</th>\n",
              "      <td>6182</td>\n",
              "      <td>26646.0</td>\n",
              "      <td>26</td>\n",
              "      <td>11</td>\n",
              "      <td>4</td>\n",
              "      <td>20</td>\n",
              "      <td>10</td>\n",
              "      <td>3</td>\n",
              "      <td>5</td>\n",
              "      <td>2</td>\n",
              "      <td>...</td>\n",
              "      <td>4</td>\n",
              "      <td>6</td>\n",
              "      <td>0</td>\n",
              "      <td>2</td>\n",
              "      <td>1</td>\n",
              "      <td>1</td>\n",
              "      <td>53</td>\n",
              "      <td>39</td>\n",
              "      <td>6</td>\n",
              "      <td>1</td>\n",
              "    </tr>\n",
              "    <tr>\n",
              "      <th>4</th>\n",
              "      <td>5324</td>\n",
              "      <td>58293.0</td>\n",
              "      <td>94</td>\n",
              "      <td>173</td>\n",
              "      <td>43</td>\n",
              "      <td>118</td>\n",
              "      <td>46</td>\n",
              "      <td>27</td>\n",
              "      <td>15</td>\n",
              "      <td>5</td>\n",
              "      <td>...</td>\n",
              "      <td>6</td>\n",
              "      <td>5</td>\n",
              "      <td>0</td>\n",
              "      <td>4</td>\n",
              "      <td>2</td>\n",
              "      <td>1</td>\n",
              "      <td>422</td>\n",
              "      <td>42</td>\n",
              "      <td>14</td>\n",
              "      <td>1</td>\n",
              "    </tr>\n",
              "    <tr>\n",
              "      <th>5</th>\n",
              "      <td>7446</td>\n",
              "      <td>62513.0</td>\n",
              "      <td>16</td>\n",
              "      <td>520</td>\n",
              "      <td>42</td>\n",
              "      <td>98</td>\n",
              "      <td>0</td>\n",
              "      <td>42</td>\n",
              "      <td>14</td>\n",
              "      <td>6</td>\n",
              "      <td>...</td>\n",
              "      <td>10</td>\n",
              "      <td>6</td>\n",
              "      <td>0</td>\n",
              "      <td>3</td>\n",
              "      <td>1</td>\n",
              "      <td>1</td>\n",
              "      <td>716</td>\n",
              "      <td>56</td>\n",
              "      <td>20</td>\n",
              "      <td>2</td>\n",
              "    </tr>\n",
              "    <tr>\n",
              "      <th>6</th>\n",
              "      <td>965</td>\n",
              "      <td>55635.0</td>\n",
              "      <td>34</td>\n",
              "      <td>235</td>\n",
              "      <td>65</td>\n",
              "      <td>164</td>\n",
              "      <td>50</td>\n",
              "      <td>49</td>\n",
              "      <td>27</td>\n",
              "      <td>7</td>\n",
              "      <td>...</td>\n",
              "      <td>7</td>\n",
              "      <td>6</td>\n",
              "      <td>0</td>\n",
              "      <td>2</td>\n",
              "      <td>3</td>\n",
              "      <td>1</td>\n",
              "      <td>590</td>\n",
              "      <td>52</td>\n",
              "      <td>17</td>\n",
              "      <td>3</td>\n",
              "    </tr>\n",
              "    <tr>\n",
              "      <th>7</th>\n",
              "      <td>6177</td>\n",
              "      <td>33454.0</td>\n",
              "      <td>32</td>\n",
              "      <td>76</td>\n",
              "      <td>10</td>\n",
              "      <td>56</td>\n",
              "      <td>3</td>\n",
              "      <td>1</td>\n",
              "      <td>23</td>\n",
              "      <td>4</td>\n",
              "      <td>...</td>\n",
              "      <td>4</td>\n",
              "      <td>8</td>\n",
              "      <td>0</td>\n",
              "      <td>4</td>\n",
              "      <td>2</td>\n",
              "      <td>1</td>\n",
              "      <td>169</td>\n",
              "      <td>38</td>\n",
              "      <td>8</td>\n",
              "      <td>2</td>\n",
              "    </tr>\n",
              "    <tr>\n",
              "      <th>8</th>\n",
              "      <td>4855</td>\n",
              "      <td>30351.0</td>\n",
              "      <td>19</td>\n",
              "      <td>14</td>\n",
              "      <td>0</td>\n",
              "      <td>24</td>\n",
              "      <td>3</td>\n",
              "      <td>3</td>\n",
              "      <td>2</td>\n",
              "      <td>3</td>\n",
              "      <td>...</td>\n",
              "      <td>2</td>\n",
              "      <td>9</td>\n",
              "      <td>0</td>\n",
              "      <td>4</td>\n",
              "      <td>1</td>\n",
              "      <td>1</td>\n",
              "      <td>46</td>\n",
              "      <td>49</td>\n",
              "      <td>5</td>\n",
              "      <td>2</td>\n",
              "    </tr>\n",
              "    <tr>\n",
              "      <th>9</th>\n",
              "      <td>5899</td>\n",
              "      <td>5648.0</td>\n",
              "      <td>68</td>\n",
              "      <td>28</td>\n",
              "      <td>0</td>\n",
              "      <td>6</td>\n",
              "      <td>1</td>\n",
              "      <td>1</td>\n",
              "      <td>13</td>\n",
              "      <td>1</td>\n",
              "      <td>...</td>\n",
              "      <td>0</td>\n",
              "      <td>20</td>\n",
              "      <td>0</td>\n",
              "      <td>4</td>\n",
              "      <td>1</td>\n",
              "      <td>2</td>\n",
              "      <td>49</td>\n",
              "      <td>73</td>\n",
              "      <td>1</td>\n",
              "      <td>1</td>\n",
              "    </tr>\n",
              "  </tbody>\n",
              "</table>\n",
              "<p>10 rows × 21 columns</p>\n",
              "</div>\n",
              "    <div class=\"colab-df-buttons\">\n",
              "\n",
              "  <div class=\"colab-df-container\">\n",
              "    <button class=\"colab-df-convert\" onclick=\"convertToInteractive('df-8b6481cc-d50e-4301-aca9-2d075c99a070')\"\n",
              "            title=\"Convert this dataframe to an interactive table.\"\n",
              "            style=\"display:none;\">\n",
              "\n",
              "  <svg xmlns=\"http://www.w3.org/2000/svg\" height=\"24px\" viewBox=\"0 -960 960 960\">\n",
              "    <path d=\"M120-120v-720h720v720H120Zm60-500h600v-160H180v160Zm220 220h160v-160H400v160Zm0 220h160v-160H400v160ZM180-400h160v-160H180v160Zm440 0h160v-160H620v160ZM180-180h160v-160H180v160Zm440 0h160v-160H620v160Z\"/>\n",
              "  </svg>\n",
              "    </button>\n",
              "\n",
              "  <style>\n",
              "    .colab-df-container {\n",
              "      display:flex;\n",
              "      gap: 12px;\n",
              "    }\n",
              "\n",
              "    .colab-df-convert {\n",
              "      background-color: #E8F0FE;\n",
              "      border: none;\n",
              "      border-radius: 50%;\n",
              "      cursor: pointer;\n",
              "      display: none;\n",
              "      fill: #1967D2;\n",
              "      height: 32px;\n",
              "      padding: 0 0 0 0;\n",
              "      width: 32px;\n",
              "    }\n",
              "\n",
              "    .colab-df-convert:hover {\n",
              "      background-color: #E2EBFA;\n",
              "      box-shadow: 0px 1px 2px rgba(60, 64, 67, 0.3), 0px 1px 3px 1px rgba(60, 64, 67, 0.15);\n",
              "      fill: #174EA6;\n",
              "    }\n",
              "\n",
              "    .colab-df-buttons div {\n",
              "      margin-bottom: 4px;\n",
              "    }\n",
              "\n",
              "    [theme=dark] .colab-df-convert {\n",
              "      background-color: #3B4455;\n",
              "      fill: #D2E3FC;\n",
              "    }\n",
              "\n",
              "    [theme=dark] .colab-df-convert:hover {\n",
              "      background-color: #434B5C;\n",
              "      box-shadow: 0px 1px 3px 1px rgba(0, 0, 0, 0.15);\n",
              "      filter: drop-shadow(0px 1px 2px rgba(0, 0, 0, 0.3));\n",
              "      fill: #FFFFFF;\n",
              "    }\n",
              "  </style>\n",
              "\n",
              "    <script>\n",
              "      const buttonEl =\n",
              "        document.querySelector('#df-8b6481cc-d50e-4301-aca9-2d075c99a070 button.colab-df-convert');\n",
              "      buttonEl.style.display =\n",
              "        google.colab.kernel.accessAllowed ? 'block' : 'none';\n",
              "\n",
              "      async function convertToInteractive(key) {\n",
              "        const element = document.querySelector('#df-8b6481cc-d50e-4301-aca9-2d075c99a070');\n",
              "        const dataTable =\n",
              "          await google.colab.kernel.invokeFunction('convertToInteractive',\n",
              "                                                    [key], {});\n",
              "        if (!dataTable) return;\n",
              "\n",
              "        const docLinkHtml = 'Like what you see? Visit the ' +\n",
              "          '<a target=\"_blank\" href=https://colab.research.google.com/notebooks/data_table.ipynb>data table notebook</a>'\n",
              "          + ' to learn more about interactive tables.';\n",
              "        element.innerHTML = '';\n",
              "        dataTable['output_type'] = 'display_data';\n",
              "        await google.colab.output.renderOutput(dataTable, element);\n",
              "        const docLink = document.createElement('div');\n",
              "        docLink.innerHTML = docLinkHtml;\n",
              "        element.appendChild(docLink);\n",
              "      }\n",
              "    </script>\n",
              "  </div>\n",
              "\n",
              "\n",
              "<div id=\"df-f066ea2a-7349-4226-ba41-aba38c2a4143\">\n",
              "  <button class=\"colab-df-quickchart\" onclick=\"quickchart('df-f066ea2a-7349-4226-ba41-aba38c2a4143')\"\n",
              "            title=\"Suggest charts\"\n",
              "            style=\"display:none;\">\n",
              "\n",
              "<svg xmlns=\"http://www.w3.org/2000/svg\" height=\"24px\"viewBox=\"0 0 24 24\"\n",
              "     width=\"24px\">\n",
              "    <g>\n",
              "        <path d=\"M19 3H5c-1.1 0-2 .9-2 2v14c0 1.1.9 2 2 2h14c1.1 0 2-.9 2-2V5c0-1.1-.9-2-2-2zM9 17H7v-7h2v7zm4 0h-2V7h2v10zm4 0h-2v-4h2v4z\"/>\n",
              "    </g>\n",
              "</svg>\n",
              "  </button>\n",
              "\n",
              "<style>\n",
              "  .colab-df-quickchart {\n",
              "      --bg-color: #E8F0FE;\n",
              "      --fill-color: #1967D2;\n",
              "      --hover-bg-color: #E2EBFA;\n",
              "      --hover-fill-color: #174EA6;\n",
              "      --disabled-fill-color: #AAA;\n",
              "      --disabled-bg-color: #DDD;\n",
              "  }\n",
              "\n",
              "  [theme=dark] .colab-df-quickchart {\n",
              "      --bg-color: #3B4455;\n",
              "      --fill-color: #D2E3FC;\n",
              "      --hover-bg-color: #434B5C;\n",
              "      --hover-fill-color: #FFFFFF;\n",
              "      --disabled-bg-color: #3B4455;\n",
              "      --disabled-fill-color: #666;\n",
              "  }\n",
              "\n",
              "  .colab-df-quickchart {\n",
              "    background-color: var(--bg-color);\n",
              "    border: none;\n",
              "    border-radius: 50%;\n",
              "    cursor: pointer;\n",
              "    display: none;\n",
              "    fill: var(--fill-color);\n",
              "    height: 32px;\n",
              "    padding: 0;\n",
              "    width: 32px;\n",
              "  }\n",
              "\n",
              "  .colab-df-quickchart:hover {\n",
              "    background-color: var(--hover-bg-color);\n",
              "    box-shadow: 0 1px 2px rgba(60, 64, 67, 0.3), 0 1px 3px 1px rgba(60, 64, 67, 0.15);\n",
              "    fill: var(--button-hover-fill-color);\n",
              "  }\n",
              "\n",
              "  .colab-df-quickchart-complete:disabled,\n",
              "  .colab-df-quickchart-complete:disabled:hover {\n",
              "    background-color: var(--disabled-bg-color);\n",
              "    fill: var(--disabled-fill-color);\n",
              "    box-shadow: none;\n",
              "  }\n",
              "\n",
              "  .colab-df-spinner {\n",
              "    border: 2px solid var(--fill-color);\n",
              "    border-color: transparent;\n",
              "    border-bottom-color: var(--fill-color);\n",
              "    animation:\n",
              "      spin 1s steps(1) infinite;\n",
              "  }\n",
              "\n",
              "  @keyframes spin {\n",
              "    0% {\n",
              "      border-color: transparent;\n",
              "      border-bottom-color: var(--fill-color);\n",
              "      border-left-color: var(--fill-color);\n",
              "    }\n",
              "    20% {\n",
              "      border-color: transparent;\n",
              "      border-left-color: var(--fill-color);\n",
              "      border-top-color: var(--fill-color);\n",
              "    }\n",
              "    30% {\n",
              "      border-color: transparent;\n",
              "      border-left-color: var(--fill-color);\n",
              "      border-top-color: var(--fill-color);\n",
              "      border-right-color: var(--fill-color);\n",
              "    }\n",
              "    40% {\n",
              "      border-color: transparent;\n",
              "      border-right-color: var(--fill-color);\n",
              "      border-top-color: var(--fill-color);\n",
              "    }\n",
              "    60% {\n",
              "      border-color: transparent;\n",
              "      border-right-color: var(--fill-color);\n",
              "    }\n",
              "    80% {\n",
              "      border-color: transparent;\n",
              "      border-right-color: var(--fill-color);\n",
              "      border-bottom-color: var(--fill-color);\n",
              "    }\n",
              "    90% {\n",
              "      border-color: transparent;\n",
              "      border-bottom-color: var(--fill-color);\n",
              "    }\n",
              "  }\n",
              "</style>\n",
              "\n",
              "  <script>\n",
              "    async function quickchart(key) {\n",
              "      const quickchartButtonEl =\n",
              "        document.querySelector('#' + key + ' button');\n",
              "      quickchartButtonEl.disabled = true;  // To prevent multiple clicks.\n",
              "      quickchartButtonEl.classList.add('colab-df-spinner');\n",
              "      try {\n",
              "        const charts = await google.colab.kernel.invokeFunction(\n",
              "            'suggestCharts', [key], {});\n",
              "      } catch (error) {\n",
              "        console.error('Error during call to suggestCharts:', error);\n",
              "      }\n",
              "      quickchartButtonEl.classList.remove('colab-df-spinner');\n",
              "      quickchartButtonEl.classList.add('colab-df-quickchart-complete');\n",
              "    }\n",
              "    (() => {\n",
              "      let quickchartButtonEl =\n",
              "        document.querySelector('#df-f066ea2a-7349-4226-ba41-aba38c2a4143 button');\n",
              "      quickchartButtonEl.style.display =\n",
              "        google.colab.kernel.accessAllowed ? 'block' : 'none';\n",
              "    })();\n",
              "  </script>\n",
              "</div>\n",
              "\n",
              "    </div>\n",
              "  </div>\n"
            ],
            "application/vnd.google.colaboratory.intrinsic+json": {
              "type": "dataframe",
              "variable_name": "data"
            }
          },
          "metadata": {},
          "execution_count": 4
        }
      ]
    },
    {
      "cell_type": "markdown",
      "id": "2b5650ab",
      "metadata": {
        "id": "2b5650ab"
      },
      "source": [
        "**1**. ¿Cuántas variables tiene el dataset?\n",
        "\n"
      ]
    },
    {
      "cell_type": "markdown",
      "source": [],
      "metadata": {
        "id": "U-w-dtT9xntE"
      },
      "id": "U-w-dtT9xntE"
    },
    {
      "cell_type": "markdown",
      "source": [
        "**Respuesta:** Tiene 21 variables."
      ],
      "metadata": {
        "id": "txqunPe7yf5R"
      },
      "id": "txqunPe7yf5R"
    },
    {
      "cell_type": "code",
      "execution_count": null,
      "id": "c21b23d3",
      "metadata": {
        "id": "c21b23d3",
        "colab": {
          "base_uri": "https://localhost:8080/"
        },
        "outputId": "8ce1c66e-5af5-47dd-d03b-b074e1d11d3c"
      },
      "outputs": [
        {
          "output_type": "execute_result",
          "data": {
            "text/plain": [
              "(2240, 21)"
            ]
          },
          "metadata": {},
          "execution_count": 5
        }
      ],
      "source": [
        "# Vemos el número de instancias que tiene el dataset\n",
        "data.shape"
      ]
    },
    {
      "cell_type": "markdown",
      "source": [],
      "metadata": {
        "id": "xz-9u8-m9LqL"
      },
      "id": "xz-9u8-m9LqL"
    },
    {
      "cell_type": "markdown",
      "source": [
        "**2**. ¿Cuántas instancias tiene el dataset?"
      ],
      "metadata": {
        "id": "Vzg2xRCFxIz3"
      },
      "id": "Vzg2xRCFxIz3"
    },
    {
      "cell_type": "markdown",
      "source": [
        "**Respuesta:** Tiene 2240 instancias, pero existen 24 observaciones con celdas vacias en \"Income\""
      ],
      "metadata": {
        "id": "YTg6BA_m0v_v"
      },
      "id": "YTg6BA_m0v_v"
    },
    {
      "cell_type": "code",
      "source": [
        "# Generamos estadísticas descriptivas  de los datos\n",
        "data.describe()"
      ],
      "metadata": {
        "id": "U8SRtYgH37IS",
        "colab": {
          "base_uri": "https://localhost:8080/",
          "height": 350
        },
        "outputId": "f04a6c95-7708-4379-edda-67f1986317f6"
      },
      "id": "U8SRtYgH37IS",
      "execution_count": 11,
      "outputs": [
        {
          "output_type": "execute_result",
          "data": {
            "text/plain": [
              "                 ID         Income      Recency     MntWines    MntFruits  \\\n",
              "count   2240.000000    2216.000000  2240.000000  2240.000000  2240.000000   \n",
              "mean    5592.159821   52247.251354    49.109375   303.935714    26.302232   \n",
              "std     3246.662198   25173.076661    28.962453   336.597393    39.773434   \n",
              "min        0.000000    1730.000000     0.000000     0.000000     0.000000   \n",
              "25%     2828.250000   35303.000000    24.000000    23.750000     1.000000   \n",
              "50%     5458.500000   51381.500000    49.000000   173.500000     8.000000   \n",
              "75%     8427.750000   68522.000000    74.000000   504.250000    33.000000   \n",
              "max    11191.000000  666666.000000    99.000000  1493.000000   199.000000   \n",
              "\n",
              "       MntMeatProducts  MntFishProducts  MntSweetProducts  MntGoldProds  \\\n",
              "count      2240.000000      2240.000000       2240.000000   2240.000000   \n",
              "mean        166.950000        37.525446         27.062946     44.021875   \n",
              "std         225.715373        54.628979         41.280498     52.167439   \n",
              "min           0.000000         0.000000          0.000000      0.000000   \n",
              "25%          16.000000         3.000000          1.000000      9.000000   \n",
              "50%          67.000000        12.000000          8.000000     24.000000   \n",
              "75%         232.000000        50.000000         33.000000     56.000000   \n",
              "max        1725.000000       259.000000        263.000000    362.000000   \n",
              "\n",
              "       NumWebPurchases  ...  NumStorePurchases  NumWebVisitsMonth  \\\n",
              "count      2240.000000  ...        2240.000000        2240.000000   \n",
              "mean          4.084821  ...           5.790179           5.316518   \n",
              "std           2.778714  ...           3.250958           2.426645   \n",
              "min           0.000000  ...           0.000000           0.000000   \n",
              "25%           2.000000  ...           3.000000           3.000000   \n",
              "50%           4.000000  ...           5.000000           6.000000   \n",
              "75%           6.000000  ...           8.000000           7.000000   \n",
              "max          27.000000  ...          13.000000          20.000000   \n",
              "\n",
              "          Complain  Education_Int  Marital_Status_Int     Children  \\\n",
              "count  2240.000000    2240.000000         2240.000000  2240.000000   \n",
              "mean      0.009375       2.460268            1.480357     0.950446   \n",
              "std       0.096391       1.004337            1.047154     0.751803   \n",
              "min       0.000000       0.000000            0.000000     0.000000   \n",
              "25%       0.000000       2.000000            1.000000     0.000000   \n",
              "50%       0.000000       2.000000            2.000000     1.000000   \n",
              "75%       0.000000       3.000000            2.000000     1.000000   \n",
              "max       1.000000       4.000000            4.000000     3.000000   \n",
              "\n",
              "       MntTotalSpent          Age  NumTotalPurchases    Seniority  \n",
              "count    2240.000000  2240.000000        2240.000000  2240.000000  \n",
              "mean      605.798214    54.194196          12.537054     1.971875  \n",
              "std       602.249288    11.984069           7.205741     0.684554  \n",
              "min         5.000000    27.000000           0.000000     1.000000  \n",
              "25%        68.750000    46.000000           6.000000     2.000000  \n",
              "50%       396.000000    53.000000          12.000000     2.000000  \n",
              "75%      1045.500000    64.000000          18.000000     2.000000  \n",
              "max      2525.000000   130.000000          32.000000     3.000000  \n",
              "\n",
              "[8 rows x 21 columns]"
            ],
            "text/html": [
              "\n",
              "  <div id=\"df-d44f0c0a-7a9b-4d22-acc1-590ff4601a3e\" class=\"colab-df-container\">\n",
              "    <div>\n",
              "<style scoped>\n",
              "    .dataframe tbody tr th:only-of-type {\n",
              "        vertical-align: middle;\n",
              "    }\n",
              "\n",
              "    .dataframe tbody tr th {\n",
              "        vertical-align: top;\n",
              "    }\n",
              "\n",
              "    .dataframe thead th {\n",
              "        text-align: right;\n",
              "    }\n",
              "</style>\n",
              "<table border=\"1\" class=\"dataframe\">\n",
              "  <thead>\n",
              "    <tr style=\"text-align: right;\">\n",
              "      <th></th>\n",
              "      <th>ID</th>\n",
              "      <th>Income</th>\n",
              "      <th>Recency</th>\n",
              "      <th>MntWines</th>\n",
              "      <th>MntFruits</th>\n",
              "      <th>MntMeatProducts</th>\n",
              "      <th>MntFishProducts</th>\n",
              "      <th>MntSweetProducts</th>\n",
              "      <th>MntGoldProds</th>\n",
              "      <th>NumWebPurchases</th>\n",
              "      <th>...</th>\n",
              "      <th>NumStorePurchases</th>\n",
              "      <th>NumWebVisitsMonth</th>\n",
              "      <th>Complain</th>\n",
              "      <th>Education_Int</th>\n",
              "      <th>Marital_Status_Int</th>\n",
              "      <th>Children</th>\n",
              "      <th>MntTotalSpent</th>\n",
              "      <th>Age</th>\n",
              "      <th>NumTotalPurchases</th>\n",
              "      <th>Seniority</th>\n",
              "    </tr>\n",
              "  </thead>\n",
              "  <tbody>\n",
              "    <tr>\n",
              "      <th>count</th>\n",
              "      <td>2240.000000</td>\n",
              "      <td>2216.000000</td>\n",
              "      <td>2240.000000</td>\n",
              "      <td>2240.000000</td>\n",
              "      <td>2240.000000</td>\n",
              "      <td>2240.000000</td>\n",
              "      <td>2240.000000</td>\n",
              "      <td>2240.000000</td>\n",
              "      <td>2240.000000</td>\n",
              "      <td>2240.000000</td>\n",
              "      <td>...</td>\n",
              "      <td>2240.000000</td>\n",
              "      <td>2240.000000</td>\n",
              "      <td>2240.000000</td>\n",
              "      <td>2240.000000</td>\n",
              "      <td>2240.000000</td>\n",
              "      <td>2240.000000</td>\n",
              "      <td>2240.000000</td>\n",
              "      <td>2240.000000</td>\n",
              "      <td>2240.000000</td>\n",
              "      <td>2240.000000</td>\n",
              "    </tr>\n",
              "    <tr>\n",
              "      <th>mean</th>\n",
              "      <td>5592.159821</td>\n",
              "      <td>52247.251354</td>\n",
              "      <td>49.109375</td>\n",
              "      <td>303.935714</td>\n",
              "      <td>26.302232</td>\n",
              "      <td>166.950000</td>\n",
              "      <td>37.525446</td>\n",
              "      <td>27.062946</td>\n",
              "      <td>44.021875</td>\n",
              "      <td>4.084821</td>\n",
              "      <td>...</td>\n",
              "      <td>5.790179</td>\n",
              "      <td>5.316518</td>\n",
              "      <td>0.009375</td>\n",
              "      <td>2.460268</td>\n",
              "      <td>1.480357</td>\n",
              "      <td>0.950446</td>\n",
              "      <td>605.798214</td>\n",
              "      <td>54.194196</td>\n",
              "      <td>12.537054</td>\n",
              "      <td>1.971875</td>\n",
              "    </tr>\n",
              "    <tr>\n",
              "      <th>std</th>\n",
              "      <td>3246.662198</td>\n",
              "      <td>25173.076661</td>\n",
              "      <td>28.962453</td>\n",
              "      <td>336.597393</td>\n",
              "      <td>39.773434</td>\n",
              "      <td>225.715373</td>\n",
              "      <td>54.628979</td>\n",
              "      <td>41.280498</td>\n",
              "      <td>52.167439</td>\n",
              "      <td>2.778714</td>\n",
              "      <td>...</td>\n",
              "      <td>3.250958</td>\n",
              "      <td>2.426645</td>\n",
              "      <td>0.096391</td>\n",
              "      <td>1.004337</td>\n",
              "      <td>1.047154</td>\n",
              "      <td>0.751803</td>\n",
              "      <td>602.249288</td>\n",
              "      <td>11.984069</td>\n",
              "      <td>7.205741</td>\n",
              "      <td>0.684554</td>\n",
              "    </tr>\n",
              "    <tr>\n",
              "      <th>min</th>\n",
              "      <td>0.000000</td>\n",
              "      <td>1730.000000</td>\n",
              "      <td>0.000000</td>\n",
              "      <td>0.000000</td>\n",
              "      <td>0.000000</td>\n",
              "      <td>0.000000</td>\n",
              "      <td>0.000000</td>\n",
              "      <td>0.000000</td>\n",
              "      <td>0.000000</td>\n",
              "      <td>0.000000</td>\n",
              "      <td>...</td>\n",
              "      <td>0.000000</td>\n",
              "      <td>0.000000</td>\n",
              "      <td>0.000000</td>\n",
              "      <td>0.000000</td>\n",
              "      <td>0.000000</td>\n",
              "      <td>0.000000</td>\n",
              "      <td>5.000000</td>\n",
              "      <td>27.000000</td>\n",
              "      <td>0.000000</td>\n",
              "      <td>1.000000</td>\n",
              "    </tr>\n",
              "    <tr>\n",
              "      <th>25%</th>\n",
              "      <td>2828.250000</td>\n",
              "      <td>35303.000000</td>\n",
              "      <td>24.000000</td>\n",
              "      <td>23.750000</td>\n",
              "      <td>1.000000</td>\n",
              "      <td>16.000000</td>\n",
              "      <td>3.000000</td>\n",
              "      <td>1.000000</td>\n",
              "      <td>9.000000</td>\n",
              "      <td>2.000000</td>\n",
              "      <td>...</td>\n",
              "      <td>3.000000</td>\n",
              "      <td>3.000000</td>\n",
              "      <td>0.000000</td>\n",
              "      <td>2.000000</td>\n",
              "      <td>1.000000</td>\n",
              "      <td>0.000000</td>\n",
              "      <td>68.750000</td>\n",
              "      <td>46.000000</td>\n",
              "      <td>6.000000</td>\n",
              "      <td>2.000000</td>\n",
              "    </tr>\n",
              "    <tr>\n",
              "      <th>50%</th>\n",
              "      <td>5458.500000</td>\n",
              "      <td>51381.500000</td>\n",
              "      <td>49.000000</td>\n",
              "      <td>173.500000</td>\n",
              "      <td>8.000000</td>\n",
              "      <td>67.000000</td>\n",
              "      <td>12.000000</td>\n",
              "      <td>8.000000</td>\n",
              "      <td>24.000000</td>\n",
              "      <td>4.000000</td>\n",
              "      <td>...</td>\n",
              "      <td>5.000000</td>\n",
              "      <td>6.000000</td>\n",
              "      <td>0.000000</td>\n",
              "      <td>2.000000</td>\n",
              "      <td>2.000000</td>\n",
              "      <td>1.000000</td>\n",
              "      <td>396.000000</td>\n",
              "      <td>53.000000</td>\n",
              "      <td>12.000000</td>\n",
              "      <td>2.000000</td>\n",
              "    </tr>\n",
              "    <tr>\n",
              "      <th>75%</th>\n",
              "      <td>8427.750000</td>\n",
              "      <td>68522.000000</td>\n",
              "      <td>74.000000</td>\n",
              "      <td>504.250000</td>\n",
              "      <td>33.000000</td>\n",
              "      <td>232.000000</td>\n",
              "      <td>50.000000</td>\n",
              "      <td>33.000000</td>\n",
              "      <td>56.000000</td>\n",
              "      <td>6.000000</td>\n",
              "      <td>...</td>\n",
              "      <td>8.000000</td>\n",
              "      <td>7.000000</td>\n",
              "      <td>0.000000</td>\n",
              "      <td>3.000000</td>\n",
              "      <td>2.000000</td>\n",
              "      <td>1.000000</td>\n",
              "      <td>1045.500000</td>\n",
              "      <td>64.000000</td>\n",
              "      <td>18.000000</td>\n",
              "      <td>2.000000</td>\n",
              "    </tr>\n",
              "    <tr>\n",
              "      <th>max</th>\n",
              "      <td>11191.000000</td>\n",
              "      <td>666666.000000</td>\n",
              "      <td>99.000000</td>\n",
              "      <td>1493.000000</td>\n",
              "      <td>199.000000</td>\n",
              "      <td>1725.000000</td>\n",
              "      <td>259.000000</td>\n",
              "      <td>263.000000</td>\n",
              "      <td>362.000000</td>\n",
              "      <td>27.000000</td>\n",
              "      <td>...</td>\n",
              "      <td>13.000000</td>\n",
              "      <td>20.000000</td>\n",
              "      <td>1.000000</td>\n",
              "      <td>4.000000</td>\n",
              "      <td>4.000000</td>\n",
              "      <td>3.000000</td>\n",
              "      <td>2525.000000</td>\n",
              "      <td>130.000000</td>\n",
              "      <td>32.000000</td>\n",
              "      <td>3.000000</td>\n",
              "    </tr>\n",
              "  </tbody>\n",
              "</table>\n",
              "<p>8 rows × 21 columns</p>\n",
              "</div>\n",
              "    <div class=\"colab-df-buttons\">\n",
              "\n",
              "  <div class=\"colab-df-container\">\n",
              "    <button class=\"colab-df-convert\" onclick=\"convertToInteractive('df-d44f0c0a-7a9b-4d22-acc1-590ff4601a3e')\"\n",
              "            title=\"Convert this dataframe to an interactive table.\"\n",
              "            style=\"display:none;\">\n",
              "\n",
              "  <svg xmlns=\"http://www.w3.org/2000/svg\" height=\"24px\" viewBox=\"0 -960 960 960\">\n",
              "    <path d=\"M120-120v-720h720v720H120Zm60-500h600v-160H180v160Zm220 220h160v-160H400v160Zm0 220h160v-160H400v160ZM180-400h160v-160H180v160Zm440 0h160v-160H620v160ZM180-180h160v-160H180v160Zm440 0h160v-160H620v160Z\"/>\n",
              "  </svg>\n",
              "    </button>\n",
              "\n",
              "  <style>\n",
              "    .colab-df-container {\n",
              "      display:flex;\n",
              "      gap: 12px;\n",
              "    }\n",
              "\n",
              "    .colab-df-convert {\n",
              "      background-color: #E8F0FE;\n",
              "      border: none;\n",
              "      border-radius: 50%;\n",
              "      cursor: pointer;\n",
              "      display: none;\n",
              "      fill: #1967D2;\n",
              "      height: 32px;\n",
              "      padding: 0 0 0 0;\n",
              "      width: 32px;\n",
              "    }\n",
              "\n",
              "    .colab-df-convert:hover {\n",
              "      background-color: #E2EBFA;\n",
              "      box-shadow: 0px 1px 2px rgba(60, 64, 67, 0.3), 0px 1px 3px 1px rgba(60, 64, 67, 0.15);\n",
              "      fill: #174EA6;\n",
              "    }\n",
              "\n",
              "    .colab-df-buttons div {\n",
              "      margin-bottom: 4px;\n",
              "    }\n",
              "\n",
              "    [theme=dark] .colab-df-convert {\n",
              "      background-color: #3B4455;\n",
              "      fill: #D2E3FC;\n",
              "    }\n",
              "\n",
              "    [theme=dark] .colab-df-convert:hover {\n",
              "      background-color: #434B5C;\n",
              "      box-shadow: 0px 1px 3px 1px rgba(0, 0, 0, 0.15);\n",
              "      filter: drop-shadow(0px 1px 2px rgba(0, 0, 0, 0.3));\n",
              "      fill: #FFFFFF;\n",
              "    }\n",
              "  </style>\n",
              "\n",
              "    <script>\n",
              "      const buttonEl =\n",
              "        document.querySelector('#df-d44f0c0a-7a9b-4d22-acc1-590ff4601a3e button.colab-df-convert');\n",
              "      buttonEl.style.display =\n",
              "        google.colab.kernel.accessAllowed ? 'block' : 'none';\n",
              "\n",
              "      async function convertToInteractive(key) {\n",
              "        const element = document.querySelector('#df-d44f0c0a-7a9b-4d22-acc1-590ff4601a3e');\n",
              "        const dataTable =\n",
              "          await google.colab.kernel.invokeFunction('convertToInteractive',\n",
              "                                                    [key], {});\n",
              "        if (!dataTable) return;\n",
              "\n",
              "        const docLinkHtml = 'Like what you see? Visit the ' +\n",
              "          '<a target=\"_blank\" href=https://colab.research.google.com/notebooks/data_table.ipynb>data table notebook</a>'\n",
              "          + ' to learn more about interactive tables.';\n",
              "        element.innerHTML = '';\n",
              "        dataTable['output_type'] = 'display_data';\n",
              "        await google.colab.output.renderOutput(dataTable, element);\n",
              "        const docLink = document.createElement('div');\n",
              "        docLink.innerHTML = docLinkHtml;\n",
              "        element.appendChild(docLink);\n",
              "      }\n",
              "    </script>\n",
              "  </div>\n",
              "\n",
              "\n",
              "<div id=\"df-21f05025-fac6-439f-b898-2547b7dde5e1\">\n",
              "  <button class=\"colab-df-quickchart\" onclick=\"quickchart('df-21f05025-fac6-439f-b898-2547b7dde5e1')\"\n",
              "            title=\"Suggest charts\"\n",
              "            style=\"display:none;\">\n",
              "\n",
              "<svg xmlns=\"http://www.w3.org/2000/svg\" height=\"24px\"viewBox=\"0 0 24 24\"\n",
              "     width=\"24px\">\n",
              "    <g>\n",
              "        <path d=\"M19 3H5c-1.1 0-2 .9-2 2v14c0 1.1.9 2 2 2h14c1.1 0 2-.9 2-2V5c0-1.1-.9-2-2-2zM9 17H7v-7h2v7zm4 0h-2V7h2v10zm4 0h-2v-4h2v4z\"/>\n",
              "    </g>\n",
              "</svg>\n",
              "  </button>\n",
              "\n",
              "<style>\n",
              "  .colab-df-quickchart {\n",
              "      --bg-color: #E8F0FE;\n",
              "      --fill-color: #1967D2;\n",
              "      --hover-bg-color: #E2EBFA;\n",
              "      --hover-fill-color: #174EA6;\n",
              "      --disabled-fill-color: #AAA;\n",
              "      --disabled-bg-color: #DDD;\n",
              "  }\n",
              "\n",
              "  [theme=dark] .colab-df-quickchart {\n",
              "      --bg-color: #3B4455;\n",
              "      --fill-color: #D2E3FC;\n",
              "      --hover-bg-color: #434B5C;\n",
              "      --hover-fill-color: #FFFFFF;\n",
              "      --disabled-bg-color: #3B4455;\n",
              "      --disabled-fill-color: #666;\n",
              "  }\n",
              "\n",
              "  .colab-df-quickchart {\n",
              "    background-color: var(--bg-color);\n",
              "    border: none;\n",
              "    border-radius: 50%;\n",
              "    cursor: pointer;\n",
              "    display: none;\n",
              "    fill: var(--fill-color);\n",
              "    height: 32px;\n",
              "    padding: 0;\n",
              "    width: 32px;\n",
              "  }\n",
              "\n",
              "  .colab-df-quickchart:hover {\n",
              "    background-color: var(--hover-bg-color);\n",
              "    box-shadow: 0 1px 2px rgba(60, 64, 67, 0.3), 0 1px 3px 1px rgba(60, 64, 67, 0.15);\n",
              "    fill: var(--button-hover-fill-color);\n",
              "  }\n",
              "\n",
              "  .colab-df-quickchart-complete:disabled,\n",
              "  .colab-df-quickchart-complete:disabled:hover {\n",
              "    background-color: var(--disabled-bg-color);\n",
              "    fill: var(--disabled-fill-color);\n",
              "    box-shadow: none;\n",
              "  }\n",
              "\n",
              "  .colab-df-spinner {\n",
              "    border: 2px solid var(--fill-color);\n",
              "    border-color: transparent;\n",
              "    border-bottom-color: var(--fill-color);\n",
              "    animation:\n",
              "      spin 1s steps(1) infinite;\n",
              "  }\n",
              "\n",
              "  @keyframes spin {\n",
              "    0% {\n",
              "      border-color: transparent;\n",
              "      border-bottom-color: var(--fill-color);\n",
              "      border-left-color: var(--fill-color);\n",
              "    }\n",
              "    20% {\n",
              "      border-color: transparent;\n",
              "      border-left-color: var(--fill-color);\n",
              "      border-top-color: var(--fill-color);\n",
              "    }\n",
              "    30% {\n",
              "      border-color: transparent;\n",
              "      border-left-color: var(--fill-color);\n",
              "      border-top-color: var(--fill-color);\n",
              "      border-right-color: var(--fill-color);\n",
              "    }\n",
              "    40% {\n",
              "      border-color: transparent;\n",
              "      border-right-color: var(--fill-color);\n",
              "      border-top-color: var(--fill-color);\n",
              "    }\n",
              "    60% {\n",
              "      border-color: transparent;\n",
              "      border-right-color: var(--fill-color);\n",
              "    }\n",
              "    80% {\n",
              "      border-color: transparent;\n",
              "      border-right-color: var(--fill-color);\n",
              "      border-bottom-color: var(--fill-color);\n",
              "    }\n",
              "    90% {\n",
              "      border-color: transparent;\n",
              "      border-bottom-color: var(--fill-color);\n",
              "    }\n",
              "  }\n",
              "</style>\n",
              "\n",
              "  <script>\n",
              "    async function quickchart(key) {\n",
              "      const quickchartButtonEl =\n",
              "        document.querySelector('#' + key + ' button');\n",
              "      quickchartButtonEl.disabled = true;  // To prevent multiple clicks.\n",
              "      quickchartButtonEl.classList.add('colab-df-spinner');\n",
              "      try {\n",
              "        const charts = await google.colab.kernel.invokeFunction(\n",
              "            'suggestCharts', [key], {});\n",
              "      } catch (error) {\n",
              "        console.error('Error during call to suggestCharts:', error);\n",
              "      }\n",
              "      quickchartButtonEl.classList.remove('colab-df-spinner');\n",
              "      quickchartButtonEl.classList.add('colab-df-quickchart-complete');\n",
              "    }\n",
              "    (() => {\n",
              "      let quickchartButtonEl =\n",
              "        document.querySelector('#df-21f05025-fac6-439f-b898-2547b7dde5e1 button');\n",
              "      quickchartButtonEl.style.display =\n",
              "        google.colab.kernel.accessAllowed ? 'block' : 'none';\n",
              "    })();\n",
              "  </script>\n",
              "</div>\n",
              "\n",
              "    </div>\n",
              "  </div>\n"
            ],
            "application/vnd.google.colaboratory.intrinsic+json": {
              "type": "dataframe"
            }
          },
          "metadata": {},
          "execution_count": 11
        }
      ]
    },
    {
      "cell_type": "markdown",
      "source": [
        "**3**. ¿Qué información proporciona cada una de las medidas estadísticas (count, mean, std, ...) sobre las variables?\n"
      ],
      "metadata": {
        "id": "FDuL75ph0rSq"
      },
      "id": "FDuL75ph0rSq"
    },
    {
      "cell_type": "markdown",
      "source": [
        "**Respuesta:**\n",
        "\"Count\" nos permite ver el numero de observaciones dentro de cada variable.\n",
        "*   Podemos observar que  todas las variables tienen el mismo número de instancias, 2240 que coincide con el numero de instancias del dataset, excepto la variable \"Income\" ya que 24 hay valores faltantes o celdas vacias.\n",
        "\"Mean\" es la media o promedio de cada variable.\n",
        "\"Min\" nos da el valor minimo y \"Max\" el valor maximo dentro de cada variable.\n",
        "*   Elemento de lista\n",
        "*   Elemento de lista\n",
        "\n"
      ],
      "metadata": {
        "id": "-FipnVnxX_cP"
      },
      "id": "-FipnVnxX_cP"
    },
    {
      "cell_type": "code",
      "source": [
        "#Generamos estadísticas de la variable que queremos predecir \"Income\"\n",
        "data['Income'].describe()"
      ],
      "metadata": {
        "id": "IXtYZ0nT4PMq",
        "colab": {
          "base_uri": "https://localhost:8080/"
        },
        "outputId": "15358934-3e38-4b69-a2da-72e491123142"
      },
      "id": "IXtYZ0nT4PMq",
      "execution_count": 9,
      "outputs": [
        {
          "output_type": "execute_result",
          "data": {
            "text/plain": [
              "count      2216.000000\n",
              "mean      52247.251354\n",
              "std       25173.076661\n",
              "min        1730.000000\n",
              "25%       35303.000000\n",
              "50%       51381.500000\n",
              "75%       68522.000000\n",
              "max      666666.000000\n",
              "Name: Income, dtype: float64"
            ]
          },
          "metadata": {},
          "execution_count": 9
        }
      ]
    },
    {
      "cell_type": "markdown",
      "source": [
        "**4**. Describid los principales estadísticos de la variable \"Income\""
      ],
      "metadata": {
        "id": "-y38i--j4-ik"
      },
      "id": "-y38i--j4-ik"
    },
    {
      "cell_type": "markdown",
      "source": [
        "**Respuesta**:La variable que representa los Ingresos familiares anuales del cliente (Income), vemos que la media de ingresos familiares es de 52.247,25 dólares , con un máximo de 666.666 dólares y un mínimo de 1.730 dólares."
      ],
      "metadata": {
        "id": "2P51SzXj4-VJ"
      },
      "id": "2P51SzXj4-VJ"
    },
    {
      "cell_type": "code",
      "execution_count": 8,
      "id": "9510e492",
      "metadata": {
        "id": "9510e492",
        "colab": {
          "base_uri": "https://localhost:8080/"
        },
        "outputId": "98680241-800f-4fdd-bb7f-55e77621e914"
      },
      "outputs": [
        {
          "output_type": "stream",
          "name": "stdout",
          "text": [
            "<class 'pandas.core.frame.DataFrame'>\n",
            "RangeIndex: 2240 entries, 0 to 2239\n",
            "Data columns (total 21 columns):\n",
            " #   Column               Non-Null Count  Dtype  \n",
            "---  ------               --------------  -----  \n",
            " 0   ID                   2240 non-null   int64  \n",
            " 1   Income               2216 non-null   float64\n",
            " 2   Recency              2240 non-null   int64  \n",
            " 3   MntWines             2240 non-null   int64  \n",
            " 4   MntFruits            2240 non-null   int64  \n",
            " 5   MntMeatProducts      2240 non-null   int64  \n",
            " 6   MntFishProducts      2240 non-null   int64  \n",
            " 7   MntSweetProducts     2240 non-null   int64  \n",
            " 8   MntGoldProds         2240 non-null   int64  \n",
            " 9   NumWebPurchases      2240 non-null   int64  \n",
            " 10  NumCatalogPurchases  2240 non-null   int64  \n",
            " 11  NumStorePurchases    2240 non-null   int64  \n",
            " 12  NumWebVisitsMonth    2240 non-null   int64  \n",
            " 13  Complain             2240 non-null   int64  \n",
            " 14  Education_Int        2240 non-null   int64  \n",
            " 15  Marital_Status_Int   2240 non-null   int64  \n",
            " 16  Children             2240 non-null   int64  \n",
            " 17  MntTotalSpent        2240 non-null   int64  \n",
            " 18  Age                  2240 non-null   int64  \n",
            " 19  NumTotalPurchases    2240 non-null   int64  \n",
            " 20  Seniority            2240 non-null   int64  \n",
            "dtypes: float64(1), int64(20)\n",
            "memory usage: 367.6 KB\n"
          ]
        }
      ],
      "source": [
        "#Vemos qué tipo de variables contiene el dataset y qué valores no contienen nulos\n",
        "data.info()"
      ]
    },
    {
      "cell_type": "markdown",
      "source": [
        "**5**. ¿Cuántas variables numéricas tiene el dataset? ¿Cuántas de tipo caracter o string?"
      ],
      "metadata": {
        "id": "-GgA_SCzX6Sh"
      },
      "id": "-GgA_SCzX6Sh"
    },
    {
      "cell_type": "markdown",
      "source": [
        "**Respuesta** : Todas las variables son numericas. Pero se realiza la distincion de 20 son enteros de 64 bits y una variable es valor con decimal de 64 bits."
      ],
      "metadata": {
        "id": "xlaRONr0zAih"
      },
      "id": "xlaRONr0zAih"
    },
    {
      "cell_type": "markdown",
      "source": [
        "**6**. ¿Existen valores nulos en el dataset?"
      ],
      "metadata": {
        "id": "pSmtDw9MN4lL"
      },
      "id": "pSmtDw9MN4lL"
    },
    {
      "cell_type": "markdown",
      "source": [
        "**Respuesta:** No existen valores nulos"
      ],
      "metadata": {
        "id": "ATBVEonQOHJC"
      },
      "id": "ATBVEonQOHJC"
    },
    {
      "cell_type": "code",
      "source": [
        "#Elegimos la variable Complain para ver los distintos valores que adopta y saber si es categórica o no\n",
        "print('Complain: ',data['Complain'].unique())"
      ],
      "metadata": {
        "id": "4fi17pOQSNoX",
        "colab": {
          "base_uri": "https://localhost:8080/"
        },
        "outputId": "0ebd92ac-6606-46f5-97e1-b0bc8505d26f"
      },
      "id": "4fi17pOQSNoX",
      "execution_count": 12,
      "outputs": [
        {
          "output_type": "stream",
          "name": "stdout",
          "text": [
            "Complain:  [0 1]\n"
          ]
        }
      ]
    },
    {
      "cell_type": "markdown",
      "source": [
        "**7**. ¿Pensáis que la variable \"Complain\" es una variable categórica? Explicad el motivo de vuestra respuesta."
      ],
      "metadata": {
        "id": "W42mE8DNSU8W"
      },
      "id": "W42mE8DNSU8W"
    },
    {
      "cell_type": "markdown",
      "source": [
        "**Respuesta:** Es una variable categórica del tipo dicotómica, ya que puede tomar solo dos valores posibles. 0 sin queja y 1 con queja."
      ],
      "metadata": {
        "id": "ib_Je1pjSOFO"
      },
      "id": "ib_Je1pjSOFO"
    },
    {
      "cell_type": "code",
      "source": [
        "#Visualizamos los histogramas de las variables numéricas para conocer su distribución\n",
        "data.hist(figsize=(16, 20), bins=50, xlabelsize=8, ylabelsize=8);"
      ],
      "metadata": {
        "id": "gmqzOtN8OC4F",
        "colab": {
          "base_uri": "https://localhost:8080/",
          "height": 1000
        },
        "outputId": "554690b9-e1ac-4cb2-fa4b-4295d04303b9"
      },
      "id": "gmqzOtN8OC4F",
      "execution_count": 13,
      "outputs": [
        {
          "output_type": "display_data",
          "data": {
            "text/plain": [
              "<Figure size 1600x2000 with 25 Axes>"
            ],
            "image/png": "[encoded data removed]"
          },
          "metadata": {}
        }
      ]
    },
    {
      "cell_type": "code",
      "source": [
        "#Visualizamos el histograma de la variable objetivo Age\n",
        "plt.figure(figsize=(12, 10))\n",
        "plt.hist(data['Age'], bins=25);"
      ],
      "metadata": {
        "id": "Q4ULGFrtRtl9"
      },
      "id": "Q4ULGFrtRtl9",
      "execution_count": null,
      "outputs": []
    },
    {
      "cell_type": "markdown",
      "source": [
        " **8**. ¿Qué nos dice esta visualización sobre la distribución de la variable Age?"
      ],
      "metadata": {
        "id": "Agk2CGDl2lp3"
      },
      "id": "Agk2CGDl2lp3"
    },
    {
      "cell_type": "markdown",
      "source": [
        "**Respuesta**:"
      ],
      "metadata": {
        "id": "XuNnfOml3r0Y"
      },
      "id": "XuNnfOml3r0Y"
    },
    {
      "cell_type": "markdown",
      "source": [
        "**9**. Escribid el código necesario para visulalizar el histograma de la variable \"MntWines\".\n"
      ],
      "metadata": {
        "id": "th3KIOWP1kop"
      },
      "id": "th3KIOWP1kop"
    },
    {
      "cell_type": "code",
      "source": [
        "#Dibujamos el histograma de la variable objetivo MNWines"
      ],
      "metadata": {
        "id": "lTB0T5tN1uS0"
      },
      "id": "lTB0T5tN1uS0",
      "execution_count": null,
      "outputs": []
    },
    {
      "cell_type": "markdown",
      "source": [
        " **10**. ¿Que nos dice el histograma sobre la distribución de la variable MntWines?"
      ],
      "metadata": {
        "id": "khUgwwLD34cx"
      },
      "id": "khUgwwLD34cx"
    },
    {
      "cell_type": "markdown",
      "source": [
        "**Respuesta:**\n"
      ],
      "metadata": {
        "id": "ARCUfEDHOLyh"
      },
      "id": "ARCUfEDHOLyh"
    },
    {
      "cell_type": "markdown",
      "source": [
        "###Paso 3: Realizamos la limpieza de datos: Identificación de valores nulos e imputación de valores faltantes"
      ],
      "metadata": {
        "id": "wMPdlp4bWiHZ"
      },
      "id": "wMPdlp4bWiHZ"
    },
    {
      "cell_type": "code",
      "source": [
        "#Visualizamos el total de valores nulos de cada variable del dataset\n",
        "data.isnull().sum()"
      ],
      "metadata": {
        "id": "9rIm7xYI_V-J"
      },
      "id": "9rIm7xYI_V-J",
      "execution_count": null,
      "outputs": []
    },
    {
      "cell_type": "code",
      "source": [
        "#Mostramos el ratio de valores nulos de cada variable del dataset\n",
        "data_nulls = data.isnull().sum().sort_values(ascending=False)\n",
        "data_nulls_datio = (data_nulls / len(data)).reset_index()\n",
        "data_nulls_datio.columns = ['Feature', 'ratio_nulls']        # cambiamos los nombres de las columnas\n",
        "data_nulls_datio[data_nulls_datio['ratio_nulls'] > 0]          # muestra las columnas que tienen algun valor nulo"
      ],
      "metadata": {
        "id": "Ae8ZgEhI-rpN"
      },
      "id": "Ae8ZgEhI-rpN",
      "execution_count": null,
      "outputs": []
    },
    {
      "cell_type": "markdown",
      "source": [
        "**11**. ¿Cuáles son las variables que más nulos tienen?"
      ],
      "metadata": {
        "id": "sloUJ3u0_ker"
      },
      "id": "sloUJ3u0_ker"
    },
    {
      "cell_type": "markdown",
      "source": [
        "**Respuesta:**\n"
      ],
      "metadata": {
        "id": "Fcmxyqrb_kRa"
      },
      "id": "Fcmxyqrb_kRa"
    },
    {
      "cell_type": "markdown",
      "source": [
        "**12**. ¿Qué podemos hacer con esos datos faltantes en cada variable?"
      ],
      "metadata": {
        "id": "Dvec-0UxDZAE"
      },
      "id": "Dvec-0UxDZAE"
    },
    {
      "cell_type": "markdown",
      "source": [
        "**Respuesta:**\n",
        "\n",
        "  "
      ],
      "metadata": {
        "id": "Nx8AIE_KYQfs"
      },
      "id": "Nx8AIE_KYQfs"
    },
    {
      "cell_type": "code",
      "source": [
        "#Valoramos sustituirlo por la media. Generamos estadísticas de la variable que queremos predecir \"Income\" para comprobar su valor medio\n",
        "data['Income'].describe()"
      ],
      "metadata": {
        "id": "SarymXgLM1bn"
      },
      "id": "SarymXgLM1bn",
      "execution_count": null,
      "outputs": []
    },
    {
      "cell_type": "code",
      "source": [
        "## Rellenamos los valores nulos con la media de la variable\n",
        "data['Income'] = data['Income'].fillna(data['Income'].mean())"
      ],
      "metadata": {
        "id": "q5GLc8auISkE"
      },
      "id": "q5GLc8auISkE",
      "execution_count": null,
      "outputs": []
    },
    {
      "cell_type": "code",
      "source": [
        "#Una vez completados los valores nulos que hemos detectado, comprobamos si sigue existiendo alguno en el dataset\n",
        "data.isnull().sum()"
      ],
      "metadata": {
        "id": "n4ADkhGGIUvc"
      },
      "id": "n4ADkhGGIUvc",
      "execution_count": null,
      "outputs": []
    },
    {
      "cell_type": "markdown",
      "source": [
        "**13** ¿Siguen existiendo valores nulos?"
      ],
      "metadata": {
        "id": "-whduzpp4wE4"
      },
      "id": "-whduzpp4wE4"
    },
    {
      "cell_type": "markdown",
      "source": [
        "**Respuesta:**"
      ],
      "metadata": {
        "id": "zKhoH__x48l-"
      },
      "id": "zKhoH__x48l-"
    },
    {
      "cell_type": "code",
      "source": [
        "# Eliminamos la columna ID con el identificador del cliente y comprobamos que se ha eliminado\n",
        "data = data.drop('ID', axis=1)\n",
        "data.head(10)"
      ],
      "metadata": {
        "id": "NkbOAb2hAhzj"
      },
      "id": "NkbOAb2hAhzj",
      "execution_count": null,
      "outputs": []
    },
    {
      "cell_type": "markdown",
      "source": [
        "**14**. ¿Por qué motivo pensáis que eliminamos la columna 'ID'?"
      ],
      "metadata": {
        "id": "ZlPEfqURAgEM"
      },
      "id": "ZlPEfqURAgEM"
    },
    {
      "cell_type": "markdown",
      "source": [
        "**Respuesta:**"
      ],
      "metadata": {
        "id": "1GvklLaoAgA6"
      },
      "id": "1GvklLaoAgA6"
    },
    {
      "cell_type": "markdown",
      "source": [
        "### Paso 4. Análisis de la relación entre variables"
      ],
      "metadata": {
        "id": "MpfzB45ZjVpO"
      },
      "id": "MpfzB45ZjVpO"
    },
    {
      "cell_type": "code",
      "source": [
        "#Realizamos la matriz de correlación entre las variables\n",
        "correlation_matrix = data.corr(method ='pearson')\n",
        "\n",
        "# Crear un mapa de calor con seaborn\n",
        "plt.figure(figsize=(15,10))\n",
        "sns.heatmap(correlation_matrix, annot=True, cmap='coolwarm', vmin=-1, vmax=1)\n",
        "plt.title('Matriz de Correlación (Valores por encima del umbral)')\n",
        "plt.show()"
      ],
      "metadata": {
        "id": "uvCJYUhfLUKk"
      },
      "id": "uvCJYUhfLUKk",
      "execution_count": null,
      "outputs": []
    },
    {
      "cell_type": "markdown",
      "source": [
        "**15**. ¿Que información se desprende de una matriz de correlación?"
      ],
      "metadata": {
        "id": "Q9JQHiSnAf-C"
      },
      "id": "Q9JQHiSnAf-C"
    },
    {
      "cell_type": "markdown",
      "source": [
        "**Respuesta:**"
      ],
      "metadata": {
        "id": "fhBftdHYRHuf"
      },
      "id": "fhBftdHYRHuf"
    },
    {
      "cell_type": "markdown",
      "source": [
        "**16**. ¿Cuáles son las variables más correlacionadas entre sí? ¿Qué significado tiene que una correlación sea positiva o negativa?"
      ],
      "metadata": {
        "id": "kuN4Uhs56txH"
      },
      "id": "kuN4Uhs56txH"
    },
    {
      "cell_type": "markdown",
      "source": [
        "**Respuesta:**"
      ],
      "metadata": {
        "id": "eBML0O2-6xd8"
      },
      "id": "eBML0O2-6xd8"
    },
    {
      "cell_type": "markdown",
      "source": [
        "**17**. Indicad que implicaría para el análisis que las variables estén altamente correlacionadas."
      ],
      "metadata": {
        "id": "xqHVk8n360AS"
      },
      "id": "xqHVk8n360AS"
    },
    {
      "cell_type": "markdown",
      "source": [
        "**Respuesta:**"
      ],
      "metadata": {
        "id": "CKnCucZY7Cyk"
      },
      "id": "CKnCucZY7Cyk"
    },
    {
      "cell_type": "markdown",
      "source": [
        "### Paso 5. Análisis de datos anómalos"
      ],
      "metadata": {
        "id": "Bj6pFWqkJrm_"
      },
      "id": "Bj6pFWqkJrm_"
    },
    {
      "cell_type": "code",
      "source": [
        "# Visualizamos los outliers en cada una de las variables utilizando un boxplot\n",
        "plt.figure(figsize=(15, 8))\n",
        "sns.boxplot(data=data)\n",
        "plt.xticks(rotation=45)  # Rotar las etiquetas del eje x para una mejor visualización\n",
        "plt.title('Diagrama de Caja para Detectar Outliers')\n",
        "plt.show()"
      ],
      "metadata": {
        "id": "9hS-x8N-H3co"
      },
      "id": "9hS-x8N-H3co",
      "execution_count": null,
      "outputs": []
    },
    {
      "cell_type": "markdown",
      "source": [
        "**18**. ¿Creéis que existe alguna variable que contenga posibles datos anómalos? Indicad cual"
      ],
      "metadata": {
        "id": "g6eUOoaC7vNy"
      },
      "id": "g6eUOoaC7vNy"
    },
    {
      "cell_type": "markdown",
      "source": [
        "**Respuesta:**"
      ],
      "metadata": {
        "id": "GQop6igM794k"
      },
      "id": "GQop6igM794k"
    },
    {
      "cell_type": "code",
      "source": [
        "# Visualizamos los outliers de la variable Income utilizando un boxplot\n",
        "plt.figure(figsize=(10, 5))\n",
        "sns.boxplot(data=data['Income'])\n",
        "plt.xticks(rotation=45)  # Rotar las etiquetas del eje x para una mejor visualización\n",
        "plt.title('Diagrama de Caja para Detectar Outliers')\n",
        "plt.show()"
      ],
      "metadata": {
        "id": "cdJ-_AgfIAKv"
      },
      "id": "cdJ-_AgfIAKv",
      "execution_count": null,
      "outputs": []
    },
    {
      "cell_type": "code",
      "source": [
        "#Generamos estadísticas de la variable \"Income\"\n",
        "data['Income'].describe()"
      ],
      "metadata": {
        "id": "CTI3MmJmdAJG"
      },
      "id": "CTI3MmJmdAJG",
      "execution_count": null,
      "outputs": []
    },
    {
      "cell_type": "code",
      "source": [
        "#Dibujamos el histograma de la variable objetivo Income\n",
        "plt.figure(figsize=(12, 10))\n",
        "plt.hist(data['Income'], bins=25);"
      ],
      "metadata": {
        "id": "2xEqKZ0zI8gg"
      },
      "id": "2xEqKZ0zI8gg",
      "execution_count": null,
      "outputs": []
    },
    {
      "cell_type": "markdown",
      "source": [
        "**19**. ¿Considerais que existen valores anómalos? ¿Por qué? Justificad vuestra respuesta."
      ],
      "metadata": {
        "id": "CcKLiOi69EfU"
      },
      "id": "CcKLiOi69EfU"
    },
    {
      "cell_type": "markdown",
      "source": [
        "**Respuesta:**"
      ],
      "metadata": {
        "id": "5Vb01p4WQW5_"
      },
      "id": "5Vb01p4WQW5_"
    },
    {
      "cell_type": "markdown",
      "source": [
        "**20**. Escribid el código para visualizar un boxplot de la variable MntTotalSpent y comprobar si tiene outliers"
      ],
      "metadata": {
        "id": "NEZTaDgv8E-U"
      },
      "id": "NEZTaDgv8E-U"
    },
    {
      "cell_type": "code",
      "source": [
        "# Visualizamos outliers utilizando un boxplot"
      ],
      "metadata": {
        "id": "oKR64SgKQBO8"
      },
      "id": "oKR64SgKQBO8",
      "execution_count": null,
      "outputs": []
    },
    {
      "cell_type": "markdown",
      "source": [
        "**Respuesta:**"
      ],
      "metadata": {
        "id": "R2D0QrBY9Qf0"
      },
      "id": "R2D0QrBY9Qf0"
    },
    {
      "cell_type": "markdown",
      "source": [
        "# Análisis de variables de interés\n",
        "\n",
        "Una vez realizado el Análisis descriptivo de datos EDA en el que hemos conocido la distribucion general de los datos, hemos comprobado su calidad y los hemos preparado para su análisis,ahora realizaremos esae análisis de los datos en mayor profundidad y orientado a nuestro objetivo o problema a resolver.\n",
        "\n",
        "En este aspecto, analizaremos cuestiones relevantes para la toma de decisiones en el ámbito del diseño de las estrategias comerciales de la empresa. En este aspecto analizaremos cuestiones de interés que profundizan en cómo son los clientes como qué tipo de productos utilizan o que canales de venta utilizan entre otras. Estas cuestiones son el nivel educativo de los clientes, estado civil, productos vendidos por categoría o canales de venta en funcion de producto."
      ],
      "metadata": {
        "id": "SLVpqrrDiCuy"
      },
      "id": "SLVpqrrDiCuy"
    },
    {
      "cell_type": "markdown",
      "source": [
        "### 1. Análizamos la distribución de los clientes en base a su nivel formativo"
      ],
      "metadata": {
        "id": "HKZdOOnUJxoY"
      },
      "id": "HKZdOOnUJxoY"
    },
    {
      "cell_type": "code",
      "source": [
        "# Visualizamos el % recogido en el dataset para ver la distribución del nivel formativo de los clientes\n",
        "counts = data['Education_Int'].value_counts()\n",
        "\n",
        "# Añadimos la leyenda\n",
        "labels = ['Grado', 'PhD', 'Master', 'Secundaria', 'Basica']\n",
        "plt.pie(counts, labels=labels, autopct='%1.1f%%')\n",
        "# Añadimos el titulo\n",
        "plt.title('Distribucion educativa de nuestros clientes')\n",
        "# Dibujamos el gráfico\n",
        "plt.show()"
      ],
      "metadata": {
        "id": "zQ-fQ4DdNpQq"
      },
      "id": "zQ-fQ4DdNpQq",
      "execution_count": null,
      "outputs": []
    },
    {
      "cell_type": "markdown",
      "source": [
        "**21**. A la vista de los resultados de esta visualización, ¿A qué conclusiones llegaríais sobre el nivel educativo de los clientes?"
      ],
      "metadata": {
        "id": "RycZTcG0Afbr"
      },
      "id": "RycZTcG0Afbr"
    },
    {
      "cell_type": "markdown",
      "source": [
        "**Respuesta:**"
      ],
      "metadata": {
        "id": "8OgEm7uB-iq7"
      },
      "id": "8OgEm7uB-iq7"
    },
    {
      "cell_type": "markdown",
      "source": [
        "### 2. Análisis del estado civil de nuestros clientes"
      ],
      "metadata": {
        "id": "v2FCXhDiJ9of"
      },
      "id": "v2FCXhDiJ9of"
    },
    {
      "cell_type": "markdown",
      "source": [
        "**22**. Escribid el código necesario para visualizar la distribución del estado civil de los clientes"
      ],
      "metadata": {
        "id": "-YehF0EXfGiR"
      },
      "id": "-YehF0EXfGiR"
    },
    {
      "cell_type": "code",
      "source": [
        "# Visualizamos el % recogido en el dataset para ver la distribución por estado civil de nuestros clientes\n",
        "\n",
        "# Usa la siguiente leyenda para la representación\n",
        "# labels = ['Casado', 'En Pareja', 'Soltero', 'Divorciado', 'Viudo']\n"
      ],
      "metadata": {
        "id": "jNNFbuFZeyjo"
      },
      "id": "jNNFbuFZeyjo",
      "execution_count": null,
      "outputs": []
    },
    {
      "cell_type": "markdown",
      "source": [
        "**23**. A la vista de la visualización anterior. ¿A qué conclusiones llegaríais sobre su estado civil?"
      ],
      "metadata": {
        "id": "vm-ZEKsQ_ffk"
      },
      "id": "vm-ZEKsQ_ffk"
    },
    {
      "cell_type": "markdown",
      "source": [
        "**Respuesta:**"
      ],
      "metadata": {
        "id": "JMFPAnvk_xqe"
      },
      "id": "JMFPAnvk_xqe"
    },
    {
      "cell_type": "markdown",
      "source": [
        "### 3. Análisis de características de clientes que infuyen en el gasto realizado"
      ],
      "metadata": {
        "id": "RqWDVr4XKLZZ"
      },
      "id": "RqWDVr4XKLZZ"
    },
    {
      "cell_type": "code",
      "source": [
        "#Seleccionamos las variables a comparar\n",
        "To_Plot = [ \"Age\", \"MntTotalSpent\"]\n",
        "print(\"Relación entre las variables seleccionadas\")\n",
        "plt.figure()\n",
        "# Crear un pairplot con las combinaciones de las variables seleccionadas\n",
        "sns.pairplot(data[To_Plot])\n",
        "# Mostrar el pairplot\n",
        "plt.show()"
      ],
      "metadata": {
        "id": "G1y6ZPor3KB_"
      },
      "id": "G1y6ZPor3KB_",
      "execution_count": null,
      "outputs": []
    },
    {
      "cell_type": "markdown",
      "source": [
        "**24** ¿Creéis que existe una relación relevante entre el volúmen de gasto y la edad del cliente?"
      ],
      "metadata": {
        "id": "Bt1YMN1kPOot"
      },
      "id": "Bt1YMN1kPOot"
    },
    {
      "cell_type": "markdown",
      "source": [
        "**Respuesta:**"
      ],
      "metadata": {
        "id": "AIT7B16aAkxx"
      },
      "id": "AIT7B16aAkxx"
    },
    {
      "cell_type": "code",
      "source": [
        "# Visualizamos las variables Children y MntTotalSpent.\n",
        "\n",
        "# Seleccionamos el tamaño de la figura\n",
        "plt.figure(figsize = (10, 6))\n",
        "\n",
        "# Creamos el dibujo de violin\n",
        "sns.violinplot(x = 'Children', y = 'MntTotalSpent', data = data, palette = 'cool')\n",
        "\n",
        "# Definimos el titulo de la figura y de cada eje\n",
        "plt.title('Distribucion del gasto en función del número de hijos en la familia')\n",
        "plt.xlabel('Nº Hijos')\n",
        "plt.ylabel('Gasto Total')\n",
        "\n",
        "plt.show()"
      ],
      "metadata": {
        "id": "H1EfLsoeRmEE"
      },
      "id": "H1EfLsoeRmEE",
      "execution_count": null,
      "outputs": []
    },
    {
      "cell_type": "markdown",
      "source": [
        "**25**. ¿Cómo describiríais el gasto en función del número de hijos de la unidad familiar ?"
      ],
      "metadata": {
        "id": "15BWaaZORmq7"
      },
      "id": "15BWaaZORmq7"
    },
    {
      "cell_type": "markdown",
      "source": [
        "**Respuesta:**"
      ],
      "metadata": {
        "id": "fQVEYc7WA7fN"
      },
      "id": "fQVEYc7WA7fN"
    },
    {
      "cell_type": "code",
      "source": [
        "# Visualizamos las variables Income y MntTotalSpent.\n",
        "\n",
        "# Definimos el tamaño de la figura\n",
        "plt.figure(figsize = (10, 6))\n",
        "\n",
        "# Creamos la visualizacion, de tipo scatter plot\n",
        "plt.scatter(data['Income'], data['MntTotalSpent'], color = 'blue', alpha = 0.1)\n",
        "\n",
        "# Definimos la leyenda del gráfico\n",
        "plt.xlabel('Income')\n",
        "plt.ylabel('MntTotalSpent')\n",
        "\n",
        "# Definimos el título del gráfico\n",
        "plt.title('Income vs Time MntTotalSpent')\n",
        "plt.show()"
      ],
      "metadata": {
        "id": "2t-vdos8Sp0k"
      },
      "id": "2t-vdos8Sp0k",
      "execution_count": null,
      "outputs": []
    },
    {
      "cell_type": "markdown",
      "source": [
        "**26**. ¿Qué tipo de relación existe entre los ingresos de la unidad familiar y el gasto?"
      ],
      "metadata": {
        "id": "narWEOcLSpo1"
      },
      "id": "narWEOcLSpo1"
    },
    {
      "cell_type": "markdown",
      "source": [
        "**Respuesta:**"
      ],
      "metadata": {
        "id": "syMHq0m4CIck"
      },
      "id": "syMHq0m4CIck"
    },
    {
      "cell_type": "markdown",
      "source": [
        "**27**. Escribid el código necesario para realizar la misma comparativa anterior entre las variables MntWines y MntMeatProducts, para ver si existe alguna relación entre el gasto en vino y el gasto en carne."
      ],
      "metadata": {
        "id": "Wk6MRauMS4IX"
      },
      "id": "Wk6MRauMS4IX"
    },
    {
      "cell_type": "code",
      "source": [
        "# Visualizamos las variables MntWines y MntMeatProducts.\n"
      ],
      "metadata": {
        "id": "L2K5hBaOS-4M"
      },
      "id": "L2K5hBaOS-4M",
      "execution_count": null,
      "outputs": []
    },
    {
      "cell_type": "markdown",
      "source": [
        "**Respuesta:**"
      ],
      "metadata": {
        "id": "9VbgU3CsS_V1"
      },
      "id": "9VbgU3CsS_V1"
    },
    {
      "cell_type": "code",
      "source": [
        "sns.barplot(x = data['Education_Int'],y = data['MntTotalSpent']);\n",
        "plt.title('Gasto total en función del nivel educativo del cliente');"
      ],
      "metadata": {
        "id": "NamJLHtrB00j"
      },
      "id": "NamJLHtrB00j",
      "execution_count": null,
      "outputs": []
    },
    {
      "cell_type": "markdown",
      "source": [
        "**27**. ¿Qué tipo de relación existe entre el nivel de formación del cliente y el gasto?"
      ],
      "metadata": {
        "id": "TtX6RVYzEncv"
      },
      "id": "TtX6RVYzEncv"
    },
    {
      "cell_type": "markdown",
      "source": [
        "**Respuesta:**"
      ],
      "metadata": {
        "id": "q6kHFCzKEnSb"
      },
      "id": "q6kHFCzKEnSb"
    },
    {
      "cell_type": "code",
      "source": [
        "#Dibujamos el histograma de la variable objetivo Complain\n",
        "plt.figure(figsize=(12, 10))\n",
        "plt.hist(data['Complain'], bins=25);"
      ],
      "metadata": {
        "id": "9FLx1ruDJEF-"
      },
      "id": "9FLx1ruDJEF-",
      "execution_count": null,
      "outputs": []
    },
    {
      "cell_type": "code",
      "source": [
        "sns.barplot(x = data['Complain'],y = data['MntTotalSpent'].mean());\n",
        "plt.title('Gasto medio en función de si el cliente ha presentado o no reclamaciones');"
      ],
      "metadata": {
        "id": "KZfJgLAZCPgn"
      },
      "id": "KZfJgLAZCPgn",
      "execution_count": null,
      "outputs": []
    },
    {
      "cell_type": "markdown",
      "source": [
        "**28**. En función del resultado obtenido, ¿Consideras que la empresa tiene un problema con las reclamaciones de los clientes? Motiva la respuesta."
      ],
      "metadata": {
        "id": "oW5LJ_1kEC2Y"
      },
      "id": "oW5LJ_1kEC2Y"
    },
    {
      "cell_type": "markdown",
      "source": [
        "**Respuesta:**"
      ],
      "metadata": {
        "id": "qXeix7VUEF-Q"
      },
      "id": "qXeix7VUEF-Q"
    },
    {
      "cell_type": "markdown",
      "source": [
        "### 4. Análisis de ventas por tipo de producto y por canal de venta"
      ],
      "metadata": {
        "id": "vQOrRj8wKqzE"
      },
      "id": "vQOrRj8wKqzE"
    },
    {
      "cell_type": "code",
      "source": [
        "# Calcular la suma de cada una de las columnas\n",
        "suma_columna1 = data['MntWines'].sum()\n",
        "suma_columna2 = data['MntFruits'].sum()\n",
        "suma_columna3 = data['MntMeatProducts'].sum()\n",
        "suma_columna4 = data['MntFishProducts'].sum()\n",
        "suma_columna5 = data['MntSweetProducts'].sum()\n",
        "suma_columna6 = data['MntGoldProds'].sum()\n",
        "\n",
        "# Crear un DataFrame con las sumas de cada columna\n",
        "df_suma = pd.DataFrame({'Columna': ['MntWines', 'MntFruits', 'MntMeatProducts', 'MntFishProducts', 'MntSweetProducts', 'MntGoldProds'],\n",
        "                        'Suma': [suma_columna1, suma_columna2, suma_columna3, suma_columna4, suma_columna5, suma_columna6]})\n",
        "\n",
        "# Crear el gráfico de barras para la suma de cada columna\n",
        "plt.figure(figsize=(10, 6))\n",
        "df_suma.plot(x='Columna', y='Suma', kind='bar', color='skyblue')\n",
        "plt.xlabel('Productos')\n",
        "plt.ylabel('Cantidad gastada')\n",
        "plt.title('Ventas totales de cada producto')\n",
        "plt.show()"
      ],
      "metadata": {
        "id": "h7D8y9dXKt6k"
      },
      "id": "h7D8y9dXKt6k",
      "execution_count": null,
      "outputs": []
    },
    {
      "cell_type": "markdown",
      "source": [
        "### 5. Análisis de canales de venta"
      ],
      "metadata": {
        "id": "aQO5YXoIMHfL"
      },
      "id": "aQO5YXoIMHfL"
    },
    {
      "cell_type": "code",
      "source": [
        "# Calcular la suma de cada una de las columnas\n",
        "suma_columna1 = data['NumWebPurchases'].sum()\n",
        "suma_columna2 = data['NumCatalogPurchases'].sum()\n",
        "suma_columna3 = data['NumStorePurchases'].sum()\n",
        "\n",
        "# Crear un DataFrame con las sumas de cada columna\n",
        "df_suma = pd.DataFrame({'Columna': ['NumWebPurchases', 'NumCatalogPurchases', 'NumStorePurchases'],\n",
        "                        'Suma': [suma_columna1, suma_columna2, suma_columna3]})\n",
        "\n",
        "# Crear el gráfico de barras para la suma de cada columna\n",
        "plt.figure(figsize=(10, 6))\n",
        "df_suma.plot(x='Columna', y='Suma', kind='bar', color='skyblue')\n",
        "plt.xlabel('Canal')\n",
        "plt.ylabel('Nº de Ventas')\n",
        "plt.title('Nº de Ventas totales en cada canal')\n",
        "plt.show()"
      ],
      "metadata": {
        "id": "-qBiPsNpMQOy"
      },
      "id": "-qBiPsNpMQOy",
      "execution_count": null,
      "outputs": []
    },
    {
      "cell_type": "markdown",
      "source": [
        "**30**. ¿Qué producto o productos conforman la principal fuente de ingresos de la empresa? ¿Qué canales de venta son los más empleados de forma habitual en las compras de los clientes?"
      ],
      "metadata": {
        "id": "8yMYCs2UGIvr"
      },
      "id": "8yMYCs2UGIvr"
    },
    {
      "cell_type": "markdown",
      "source": [
        "**Respuesta:**"
      ],
      "metadata": {
        "id": "cTSVcYRPGIk8"
      },
      "id": "cTSVcYRPGIk8"
    },
    {
      "cell_type": "markdown",
      "source": [
        "# Conclusiones del análisis y propuesta con recomendaciones para el lanzamiento de un nuevo producto\n",
        "\n",
        "En base al análisis previo realizado, paara finalizar expondréis:\n",
        "\n",
        "- **Conclusiones** de vuestro análisis en relación con el perfil público objetivo, tendencias y patrones de venta y comportamiento de cliente.\n",
        "-  **Propuesta** con recomendaciones para el lanzamiento de producto o línea. Estas recomendaciones pueden ir orientadas por ejemplo a: Cómo lanzar o comercializar el producto a través e una vía concreta o cómo realizar una campaña inicial a un segmento de edad determinado."
      ],
      "metadata": {
        "id": "zN-nwdrLGcJu"
      },
      "id": "zN-nwdrLGcJu"
    },
    {
      "cell_type": "markdown",
      "source": [
        "### 1. Conclusiones del análisis"
      ],
      "metadata": {
        "id": "ErxWc55SI7ag"
      },
      "id": "ErxWc55SI7ag"
    },
    {
      "cell_type": "markdown",
      "source": [
        "**Respuesta**"
      ],
      "metadata": {
        "id": "N-9Brv_XJBQv"
      },
      "id": "N-9Brv_XJBQv"
    },
    {
      "cell_type": "markdown",
      "source": [
        "### 2. Propuesta con recomendaciones para el lanzamiento de un nuevo producto"
      ],
      "metadata": {
        "id": "Y9FrerXCJDbE"
      },
      "id": "Y9FrerXCJDbE"
    },
    {
      "cell_type": "markdown",
      "source": [
        "**Respuesta**"
      ],
      "metadata": {
        "id": "JJcB6QSFJIhw"
      },
      "id": "JJcB6QSFJIhw"
    }
  ],
  "metadata": {
    "kernelspec": {
      "display_name": "Python 3 (ipykernel)",
      "language": "python",
      "name": "python3"
    },
    "language_info": {
      "codemirror_mode": {
        "name": "ipython",
        "version": 3
      },
      "file_extension": ".py",
      "mimetype": "text/x-python",
      "name": "python",
      "nbconvert_exporter": "python",
      "pygments_lexer": "ipython3",
      "version": "3.8.18"
    },
    "colab": {
      "provenance": [],
      "include_colab_link": true
    }
  },
  "nbformat": 4,
  "nbformat_minor": 5
}